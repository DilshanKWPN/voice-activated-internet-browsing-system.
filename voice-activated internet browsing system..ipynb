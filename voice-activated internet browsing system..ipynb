{
 "cells": [
  {
   "cell_type": "code",
   "execution_count": 12,
   "metadata": {},
   "outputs": [],
   "source": [
    "import speech_recognition\n",
    "import pyttsx3\n",
    "import webbrowser\n"
   ]
  },
  {
   "cell_type": "code",
   "execution_count": 13,
   "metadata": {},
   "outputs": [
    {
     "name": "stdout",
     "output_type": "stream",
     "text": [
      "please say somthing to open.....\n",
      "Hearing....\n",
      "you ask to open:youtube.com\n"
     ]
    }
   ],
   "source": [
    "if __name__==\"__main__\":\n",
    "\n",
    "    path=\"C:/Program Files (x86)/Microsoft/Edge/Application/msedge.exe %s\"\n",
    "\n",
    "    sr=speech_recognition.Recognizer()\n",
    "    with speech_recognition.Microphone() as source:\n",
    "         sr.adjust_for_ambient_noise(source)\n",
    "         print(\"please say somthing to open.....\")\n",
    "         audio=sr.listen(source)\n",
    "         print(\"Hearing....\")\n",
    "\n",
    "    try:\n",
    "            destination=sr.recognize_google(audio)\n",
    "            print(\"you ask to open:\"+destination)\n",
    "            webbrowser.get(path).open(destination)\n",
    "\n",
    "    except Exception as e:\n",
    "            print(\"error : \"+str(e))"
   ]
  }
 ],
 "metadata": {
  "kernelspec": {
   "display_name": "Python 3",
   "language": "python",
   "name": "python3"
  },
  "language_info": {
   "codemirror_mode": {
    "name": "ipython",
    "version": 3
   },
   "file_extension": ".py",
   "mimetype": "text/x-python",
   "name": "python",
   "nbconvert_exporter": "python",
   "pygments_lexer": "ipython3",
   "version": "3.11.5"
  },
  "orig_nbformat": 4
 },
 "nbformat": 4,
 "nbformat_minor": 2
}
